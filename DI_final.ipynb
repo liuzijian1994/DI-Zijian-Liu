{
 "cells": [
  {
   "cell_type": "code",
   "execution_count": 1,
   "metadata": {},
   "outputs": [
    {
     "name": "stderr",
     "output_type": "stream",
     "text": [
      "D:\\tools\\anaconda\\lib\\site-packages\\sklearn\\externals\\joblib\\__init__.py:15: DeprecationWarning: sklearn.externals.joblib is deprecated in 0.21 and will be removed in 0.23. Please import this functionality directly from joblib, which can be installed with: pip install joblib. If this warning is raised when loading pickled models, you may need to re-serialize those models with scikit-learn 0.21+.\n",
      "  warnings.warn(msg, category=DeprecationWarning)\n"
     ]
    }
   ],
   "source": [
    "import numpy as np\n",
    "import pandas as pd\n",
    "import matplotlib.pyplot as plt\n",
    "import seaborn as sns\n",
    "import ipywidgets as widgets\n",
    "from ipywidgets import interactive, IntSlider\n",
    "import  os\n",
    "from sklearn.preprocessing import StandardScaler\n",
    "import time\n",
    "from sklearn.ensemble import IsolationForest\n",
    "from sklearn.model_selection import train_test_split\n",
    "from sklearn.linear_model.logistic import LogisticRegression\n",
    "from sklearn import model_selection, ensemble\n",
    "from sklearn.metrics import confusion_matrix\n",
    "from sklearn.metrics import matthews_corrcoef\n",
    "from sklearn.metrics import  roc_auc_score\n",
    "from sklearn.metrics import  accuracy_score\n",
    "from sklearn.metrics import precision_score, recall_score\n",
    "from sklearn.metrics import precision_recall_curve\n",
    "import matplotlib.pyplot as plt\n",
    "from sklearn.neural_network import MLPClassifier\n",
    "from sklearn.model_selection import RandomizedSearchCV\n",
    "from sklearn.ensemble import GradientBoostingClassifier\n",
    "from imblearn.over_sampling import RandomOverSampler\n",
    "from sklearn.ensemble import RandomForestClassifier\n",
    "from sklearn.externals import joblib"
   ]
  },
  {
   "cell_type": "code",
   "execution_count": 2,
   "metadata": {},
   "outputs": [],
   "source": [
    "dir_path=r'./data'"
   ]
  },
  {
   "cell_type": "code",
   "execution_count": 3,
   "metadata": {},
   "outputs": [],
   "source": [
    "RF = joblib.load(\"./models_save/RF_train_model.m\")"
   ]
  },
  {
   "cell_type": "code",
   "execution_count": null,
   "metadata": {},
   "outputs": [],
   "source": []
  },
  {
   "cell_type": "code",
   "execution_count": 4,
   "metadata": {},
   "outputs": [],
   "source": [
    "def import_data(path):\n",
    "    imdict = {}\n",
    "    for file in os.listdir(path):\n",
    "        imdict[file[:-4]] = pd.read_csv(path+r'\\\\'+file,low_memory = False)\n",
    "    return imdict"
   ]
  },
  {
   "cell_type": "code",
   "execution_count": 5,
   "metadata": {},
   "outputs": [],
   "source": [
    "data = pd.read_csv(dir_path+'\\\\LoanStats_securev1_2018Q1.csv',low_memory = False,skiprows = 1)"
   ]
  },
  {
   "cell_type": "code",
   "execution_count": 6,
   "metadata": {},
   "outputs": [],
   "source": [
    "cate_list = list(data.select_dtypes(include='object').columns)\n",
    "conti_list = list(data.select_dtypes(include='float64').columns)"
   ]
  },
  {
   "cell_type": "code",
   "execution_count": 7,
   "metadata": {},
   "outputs": [],
   "source": [
    "def table_cate(df,col):\n",
    "    t = pd.pivot_table(df[[col, 'loan_status']], index=col, columns=['loan_status'], aggfunc=len)\n",
    "    t['ratio'] = t['Charged Off'].values / (t['Current'].values + t['Charged Off'].values+t['Fully Paid'].values)\n",
    "    t = t.sort_values(by = 'ratio',ascending=False)\n",
    "    return t"
   ]
  },
  {
   "cell_type": "code",
   "execution_count": 8,
   "metadata": {},
   "outputs": [],
   "source": [
    "def plot_cate(df,col_list):\n",
    "    for name in col_list:\n",
    "        p = pd.pivot_table(df[[name, 'loan_status']], index=df[name], columns=['loan_status'], aggfunc=len)\n",
    "        p.plot(kind='bar')"
   ]
  },
  {
   "cell_type": "code",
   "execution_count": 9,
   "metadata": {},
   "outputs": [],
   "source": [
    "def plot_conti(df,col):\n",
    "    plt.hist(df[df.loan_status=='Fully Paid'].loc[:, col], color='green')\n",
    "    plt.hist(df[df.loan_status=='Charged Off'].loc[:, col],color='red')\n",
    "    plt.title(col)\n",
    "    plt.legend(['good', 'bad'])"
   ]
  },
  {
   "cell_type": "code",
   "execution_count": 10,
   "metadata": {},
   "outputs": [
    {
     "name": "stdout",
     "output_type": "stream",
     "text": [
      "<class 'pandas.core.frame.DataFrame'>\n",
      "RangeIndex: 107866 entries, 0 to 107865\n",
      "Columns: 150 entries, id to settlement_term\n",
      "dtypes: float64(112), object(38)\n",
      "memory usage: 123.4+ MB\n"
     ]
    },
    {
     "data": {
      "text/html": [
       "<div>\n",
       "<style scoped>\n",
       "    .dataframe tbody tr th:only-of-type {\n",
       "        vertical-align: middle;\n",
       "    }\n",
       "\n",
       "    .dataframe tbody tr th {\n",
       "        vertical-align: top;\n",
       "    }\n",
       "\n",
       "    .dataframe thead th {\n",
       "        text-align: right;\n",
       "    }\n",
       "</style>\n",
       "<table border=\"1\" class=\"dataframe\">\n",
       "  <thead>\n",
       "    <tr style=\"text-align: right;\">\n",
       "      <th></th>\n",
       "      <th>member_id</th>\n",
       "      <th>loan_amnt</th>\n",
       "      <th>funded_amnt</th>\n",
       "      <th>funded_amnt_inv</th>\n",
       "      <th>installment</th>\n",
       "      <th>annual_inc</th>\n",
       "      <th>desc</th>\n",
       "      <th>dti</th>\n",
       "      <th>delinq_2yrs</th>\n",
       "      <th>fico_range_low</th>\n",
       "      <th>...</th>\n",
       "      <th>deferral_term</th>\n",
       "      <th>hardship_amount</th>\n",
       "      <th>hardship_length</th>\n",
       "      <th>hardship_dpd</th>\n",
       "      <th>orig_projected_additional_accrued_interest</th>\n",
       "      <th>hardship_payoff_balance_amount</th>\n",
       "      <th>hardship_last_payment_amount</th>\n",
       "      <th>settlement_amount</th>\n",
       "      <th>settlement_percentage</th>\n",
       "      <th>settlement_term</th>\n",
       "    </tr>\n",
       "  </thead>\n",
       "  <tbody>\n",
       "    <tr>\n",
       "      <td>count</td>\n",
       "      <td>0.0</td>\n",
       "      <td>107864.000000</td>\n",
       "      <td>107864.000000</td>\n",
       "      <td>107864.000000</td>\n",
       "      <td>107864.000000</td>\n",
       "      <td>1.078640e+05</td>\n",
       "      <td>0.0</td>\n",
       "      <td>107602.000000</td>\n",
       "      <td>107864.000000</td>\n",
       "      <td>107864.000000</td>\n",
       "      <td>...</td>\n",
       "      <td>456.0</td>\n",
       "      <td>456.000000</td>\n",
       "      <td>456.0</td>\n",
       "      <td>456.000000</td>\n",
       "      <td>346.000000</td>\n",
       "      <td>456.000000</td>\n",
       "      <td>456.000000</td>\n",
       "      <td>738.000000</td>\n",
       "      <td>738.000000</td>\n",
       "      <td>738.000000</td>\n",
       "    </tr>\n",
       "    <tr>\n",
       "      <td>mean</td>\n",
       "      <td>NaN</td>\n",
       "      <td>16147.942780</td>\n",
       "      <td>16147.942780</td>\n",
       "      <td>16143.858212</td>\n",
       "      <td>469.644525</td>\n",
       "      <td>7.854227e+04</td>\n",
       "      <td>NaN</td>\n",
       "      <td>19.648209</td>\n",
       "      <td>0.223773</td>\n",
       "      <td>708.248303</td>\n",
       "      <td>...</td>\n",
       "      <td>3.0</td>\n",
       "      <td>191.303399</td>\n",
       "      <td>3.0</td>\n",
       "      <td>14.440789</td>\n",
       "      <td>584.158526</td>\n",
       "      <td>14753.860197</td>\n",
       "      <td>213.719518</td>\n",
       "      <td>6821.027981</td>\n",
       "      <td>51.209472</td>\n",
       "      <td>18.186992</td>\n",
       "    </tr>\n",
       "    <tr>\n",
       "      <td>std</td>\n",
       "      <td>NaN</td>\n",
       "      <td>10184.024938</td>\n",
       "      <td>10184.024938</td>\n",
       "      <td>10182.885624</td>\n",
       "      <td>289.217018</td>\n",
       "      <td>7.687436e+04</td>\n",
       "      <td>NaN</td>\n",
       "      <td>21.795902</td>\n",
       "      <td>0.730417</td>\n",
       "      <td>37.205453</td>\n",
       "      <td>...</td>\n",
       "      <td>0.0</td>\n",
       "      <td>142.258457</td>\n",
       "      <td>0.0</td>\n",
       "      <td>8.215023</td>\n",
       "      <td>437.653062</td>\n",
       "      <td>8731.149932</td>\n",
       "      <td>192.171225</td>\n",
       "      <td>4534.557644</td>\n",
       "      <td>7.978391</td>\n",
       "      <td>6.837739</td>\n",
       "    </tr>\n",
       "    <tr>\n",
       "      <td>min</td>\n",
       "      <td>NaN</td>\n",
       "      <td>1000.000000</td>\n",
       "      <td>1000.000000</td>\n",
       "      <td>1000.000000</td>\n",
       "      <td>29.760000</td>\n",
       "      <td>0.000000e+00</td>\n",
       "      <td>NaN</td>\n",
       "      <td>0.000000</td>\n",
       "      <td>0.000000</td>\n",
       "      <td>660.000000</td>\n",
       "      <td>...</td>\n",
       "      <td>3.0</td>\n",
       "      <td>7.910000</td>\n",
       "      <td>3.0</td>\n",
       "      <td>0.000000</td>\n",
       "      <td>23.730000</td>\n",
       "      <td>574.950000</td>\n",
       "      <td>0.080000</td>\n",
       "      <td>307.000000</td>\n",
       "      <td>29.950000</td>\n",
       "      <td>1.000000</td>\n",
       "    </tr>\n",
       "    <tr>\n",
       "      <td>25%</td>\n",
       "      <td>NaN</td>\n",
       "      <td>8000.000000</td>\n",
       "      <td>8000.000000</td>\n",
       "      <td>8000.000000</td>\n",
       "      <td>254.560000</td>\n",
       "      <td>4.500000e+04</td>\n",
       "      <td>NaN</td>\n",
       "      <td>11.230000</td>\n",
       "      <td>0.000000</td>\n",
       "      <td>680.000000</td>\n",
       "      <td>...</td>\n",
       "      <td>3.0</td>\n",
       "      <td>84.330000</td>\n",
       "      <td>3.0</td>\n",
       "      <td>8.000000</td>\n",
       "      <td>254.527500</td>\n",
       "      <td>7612.462500</td>\n",
       "      <td>63.390000</td>\n",
       "      <td>3436.250000</td>\n",
       "      <td>45.000000</td>\n",
       "      <td>16.000000</td>\n",
       "    </tr>\n",
       "    <tr>\n",
       "      <td>50%</td>\n",
       "      <td>NaN</td>\n",
       "      <td>14000.000000</td>\n",
       "      <td>14000.000000</td>\n",
       "      <td>14000.000000</td>\n",
       "      <td>389.360000</td>\n",
       "      <td>6.500000e+04</td>\n",
       "      <td>NaN</td>\n",
       "      <td>17.670000</td>\n",
       "      <td>0.000000</td>\n",
       "      <td>700.000000</td>\n",
       "      <td>...</td>\n",
       "      <td>3.0</td>\n",
       "      <td>156.015000</td>\n",
       "      <td>3.0</td>\n",
       "      <td>15.000000</td>\n",
       "      <td>484.290000</td>\n",
       "      <td>13123.370000</td>\n",
       "      <td>161.335000</td>\n",
       "      <td>5596.735000</td>\n",
       "      <td>50.000000</td>\n",
       "      <td>18.000000</td>\n",
       "    </tr>\n",
       "    <tr>\n",
       "      <td>75%</td>\n",
       "      <td>NaN</td>\n",
       "      <td>22400.000000</td>\n",
       "      <td>22400.000000</td>\n",
       "      <td>22375.000000</td>\n",
       "      <td>637.630000</td>\n",
       "      <td>9.500000e+04</td>\n",
       "      <td>NaN</td>\n",
       "      <td>25.020000</td>\n",
       "      <td>0.000000</td>\n",
       "      <td>730.000000</td>\n",
       "      <td>...</td>\n",
       "      <td>3.0</td>\n",
       "      <td>262.232500</td>\n",
       "      <td>3.0</td>\n",
       "      <td>21.000000</td>\n",
       "      <td>800.265000</td>\n",
       "      <td>21524.325000</td>\n",
       "      <td>317.015000</td>\n",
       "      <td>9406.830000</td>\n",
       "      <td>60.000000</td>\n",
       "      <td>24.000000</td>\n",
       "    </tr>\n",
       "    <tr>\n",
       "      <td>max</td>\n",
       "      <td>NaN</td>\n",
       "      <td>40000.000000</td>\n",
       "      <td>40000.000000</td>\n",
       "      <td>40000.000000</td>\n",
       "      <td>1618.030000</td>\n",
       "      <td>8.365188e+06</td>\n",
       "      <td>NaN</td>\n",
       "      <td>999.000000</td>\n",
       "      <td>20.000000</td>\n",
       "      <td>845.000000</td>\n",
       "      <td>...</td>\n",
       "      <td>3.0</td>\n",
       "      <td>845.220000</td>\n",
       "      <td>3.0</td>\n",
       "      <td>30.000000</td>\n",
       "      <td>2535.660000</td>\n",
       "      <td>38079.560000</td>\n",
       "      <td>1072.990000</td>\n",
       "      <td>23086.000000</td>\n",
       "      <td>80.000000</td>\n",
       "      <td>30.000000</td>\n",
       "    </tr>\n",
       "  </tbody>\n",
       "</table>\n",
       "<p>8 rows × 112 columns</p>\n",
       "</div>"
      ],
      "text/plain": [
       "       member_id      loan_amnt    funded_amnt  funded_amnt_inv  \\\n",
       "count        0.0  107864.000000  107864.000000    107864.000000   \n",
       "mean         NaN   16147.942780   16147.942780     16143.858212   \n",
       "std          NaN   10184.024938   10184.024938     10182.885624   \n",
       "min          NaN    1000.000000    1000.000000      1000.000000   \n",
       "25%          NaN    8000.000000    8000.000000      8000.000000   \n",
       "50%          NaN   14000.000000   14000.000000     14000.000000   \n",
       "75%          NaN   22400.000000   22400.000000     22375.000000   \n",
       "max          NaN   40000.000000   40000.000000     40000.000000   \n",
       "\n",
       "         installment    annual_inc  desc            dti    delinq_2yrs  \\\n",
       "count  107864.000000  1.078640e+05   0.0  107602.000000  107864.000000   \n",
       "mean      469.644525  7.854227e+04   NaN      19.648209       0.223773   \n",
       "std       289.217018  7.687436e+04   NaN      21.795902       0.730417   \n",
       "min        29.760000  0.000000e+00   NaN       0.000000       0.000000   \n",
       "25%       254.560000  4.500000e+04   NaN      11.230000       0.000000   \n",
       "50%       389.360000  6.500000e+04   NaN      17.670000       0.000000   \n",
       "75%       637.630000  9.500000e+04   NaN      25.020000       0.000000   \n",
       "max      1618.030000  8.365188e+06   NaN     999.000000      20.000000   \n",
       "\n",
       "       fico_range_low  ...  deferral_term  hardship_amount  hardship_length  \\\n",
       "count   107864.000000  ...          456.0       456.000000            456.0   \n",
       "mean       708.248303  ...            3.0       191.303399              3.0   \n",
       "std         37.205453  ...            0.0       142.258457              0.0   \n",
       "min        660.000000  ...            3.0         7.910000              3.0   \n",
       "25%        680.000000  ...            3.0        84.330000              3.0   \n",
       "50%        700.000000  ...            3.0       156.015000              3.0   \n",
       "75%        730.000000  ...            3.0       262.232500              3.0   \n",
       "max        845.000000  ...            3.0       845.220000              3.0   \n",
       "\n",
       "       hardship_dpd  orig_projected_additional_accrued_interest  \\\n",
       "count    456.000000                                  346.000000   \n",
       "mean      14.440789                                  584.158526   \n",
       "std        8.215023                                  437.653062   \n",
       "min        0.000000                                   23.730000   \n",
       "25%        8.000000                                  254.527500   \n",
       "50%       15.000000                                  484.290000   \n",
       "75%       21.000000                                  800.265000   \n",
       "max       30.000000                                 2535.660000   \n",
       "\n",
       "       hardship_payoff_balance_amount  hardship_last_payment_amount  \\\n",
       "count                      456.000000                    456.000000   \n",
       "mean                     14753.860197                    213.719518   \n",
       "std                       8731.149932                    192.171225   \n",
       "min                        574.950000                      0.080000   \n",
       "25%                       7612.462500                     63.390000   \n",
       "50%                      13123.370000                    161.335000   \n",
       "75%                      21524.325000                    317.015000   \n",
       "max                      38079.560000                   1072.990000   \n",
       "\n",
       "       settlement_amount  settlement_percentage  settlement_term  \n",
       "count         738.000000             738.000000       738.000000  \n",
       "mean         6821.027981              51.209472        18.186992  \n",
       "std          4534.557644               7.978391         6.837739  \n",
       "min           307.000000              29.950000         1.000000  \n",
       "25%          3436.250000              45.000000        16.000000  \n",
       "50%          5596.735000              50.000000        18.000000  \n",
       "75%          9406.830000              60.000000        24.000000  \n",
       "max         23086.000000              80.000000        30.000000  \n",
       "\n",
       "[8 rows x 112 columns]"
      ]
     },
     "execution_count": 10,
     "metadata": {},
     "output_type": "execute_result"
    }
   ],
   "source": [
    "data.info()\n",
    "data.describe()"
   ]
  },
  {
   "cell_type": "code",
   "execution_count": 11,
   "metadata": {},
   "outputs": [
    {
     "data": {
      "text/plain": [
       "Current               69654\n",
       "Fully Paid            27322\n",
       "Charged Off            7619\n",
       "Late (31-120 days)     2077\n",
       "In Grace Period         773\n",
       "Late (16-30 days)       416\n",
       "Default                   3\n",
       "Name: loan_status, dtype: int64"
      ]
     },
     "execution_count": 11,
     "metadata": {},
     "output_type": "execute_result"
    }
   ],
   "source": [
    "data.loan_status.value_counts()"
   ]
  },
  {
   "cell_type": "code",
   "execution_count": 12,
   "metadata": {},
   "outputs": [
    {
     "data": {
      "text/html": [
       "<div>\n",
       "<style scoped>\n",
       "    .dataframe tbody tr th:only-of-type {\n",
       "        vertical-align: middle;\n",
       "    }\n",
       "\n",
       "    .dataframe tbody tr th {\n",
       "        vertical-align: top;\n",
       "    }\n",
       "\n",
       "    .dataframe thead th {\n",
       "        text-align: right;\n",
       "    }\n",
       "</style>\n",
       "<table border=\"1\" class=\"dataframe\">\n",
       "  <thead>\n",
       "    <tr style=\"text-align: right;\">\n",
       "      <th>loan_status</th>\n",
       "      <th>Charged Off</th>\n",
       "      <th>Current</th>\n",
       "      <th>Default</th>\n",
       "      <th>Fully Paid</th>\n",
       "      <th>In Grace Period</th>\n",
       "      <th>Late (16-30 days)</th>\n",
       "      <th>Late (31-120 days)</th>\n",
       "      <th>ratio</th>\n",
       "    </tr>\n",
       "    <tr>\n",
       "      <th>purpose</th>\n",
       "      <th></th>\n",
       "      <th></th>\n",
       "      <th></th>\n",
       "      <th></th>\n",
       "      <th></th>\n",
       "      <th></th>\n",
       "      <th></th>\n",
       "      <th></th>\n",
       "    </tr>\n",
       "  </thead>\n",
       "  <tbody>\n",
       "    <tr>\n",
       "      <td>small_business</td>\n",
       "      <td>171.0</td>\n",
       "      <td>854.0</td>\n",
       "      <td>NaN</td>\n",
       "      <td>262.0</td>\n",
       "      <td>15.0</td>\n",
       "      <td>5.0</td>\n",
       "      <td>39.0</td>\n",
       "      <td>0.132867</td>\n",
       "    </tr>\n",
       "    <tr>\n",
       "      <td>moving</td>\n",
       "      <td>85.0</td>\n",
       "      <td>444.0</td>\n",
       "      <td>NaN</td>\n",
       "      <td>190.0</td>\n",
       "      <td>9.0</td>\n",
       "      <td>NaN</td>\n",
       "      <td>17.0</td>\n",
       "      <td>0.118220</td>\n",
       "    </tr>\n",
       "    <tr>\n",
       "      <td>renewable_energy</td>\n",
       "      <td>7.0</td>\n",
       "      <td>40.0</td>\n",
       "      <td>NaN</td>\n",
       "      <td>16.0</td>\n",
       "      <td>NaN</td>\n",
       "      <td>NaN</td>\n",
       "      <td>NaN</td>\n",
       "      <td>0.111111</td>\n",
       "    </tr>\n",
       "    <tr>\n",
       "      <td>medical</td>\n",
       "      <td>159.0</td>\n",
       "      <td>1097.0</td>\n",
       "      <td>NaN</td>\n",
       "      <td>462.0</td>\n",
       "      <td>12.0</td>\n",
       "      <td>5.0</td>\n",
       "      <td>30.0</td>\n",
       "      <td>0.092549</td>\n",
       "    </tr>\n",
       "    <tr>\n",
       "      <td>house</td>\n",
       "      <td>127.0</td>\n",
       "      <td>960.0</td>\n",
       "      <td>NaN</td>\n",
       "      <td>441.0</td>\n",
       "      <td>6.0</td>\n",
       "      <td>9.0</td>\n",
       "      <td>36.0</td>\n",
       "      <td>0.083115</td>\n",
       "    </tr>\n",
       "    <tr>\n",
       "      <td>other</td>\n",
       "      <td>775.0</td>\n",
       "      <td>6087.0</td>\n",
       "      <td>1.0</td>\n",
       "      <td>2560.0</td>\n",
       "      <td>74.0</td>\n",
       "      <td>39.0</td>\n",
       "      <td>198.0</td>\n",
       "      <td>0.082254</td>\n",
       "    </tr>\n",
       "    <tr>\n",
       "      <td>major_purchase</td>\n",
       "      <td>252.0</td>\n",
       "      <td>2010.0</td>\n",
       "      <td>NaN</td>\n",
       "      <td>838.0</td>\n",
       "      <td>29.0</td>\n",
       "      <td>12.0</td>\n",
       "      <td>76.0</td>\n",
       "      <td>0.081290</td>\n",
       "    </tr>\n",
       "    <tr>\n",
       "      <td>debt_consolidation</td>\n",
       "      <td>4108.0</td>\n",
       "      <td>35123.0</td>\n",
       "      <td>2.0</td>\n",
       "      <td>14128.0</td>\n",
       "      <td>394.0</td>\n",
       "      <td>238.0</td>\n",
       "      <td>1090.0</td>\n",
       "      <td>0.076988</td>\n",
       "    </tr>\n",
       "    <tr>\n",
       "      <td>vacation</td>\n",
       "      <td>53.0</td>\n",
       "      <td>459.0</td>\n",
       "      <td>NaN</td>\n",
       "      <td>224.0</td>\n",
       "      <td>4.0</td>\n",
       "      <td>1.0</td>\n",
       "      <td>8.0</td>\n",
       "      <td>0.072011</td>\n",
       "    </tr>\n",
       "    <tr>\n",
       "      <td>home_improvement</td>\n",
       "      <td>487.0</td>\n",
       "      <td>4832.0</td>\n",
       "      <td>NaN</td>\n",
       "      <td>2077.0</td>\n",
       "      <td>67.0</td>\n",
       "      <td>28.0</td>\n",
       "      <td>149.0</td>\n",
       "      <td>0.065846</td>\n",
       "    </tr>\n",
       "    <tr>\n",
       "      <td>car</td>\n",
       "      <td>74.0</td>\n",
       "      <td>886.0</td>\n",
       "      <td>NaN</td>\n",
       "      <td>369.0</td>\n",
       "      <td>10.0</td>\n",
       "      <td>4.0</td>\n",
       "      <td>18.0</td>\n",
       "      <td>0.055681</td>\n",
       "    </tr>\n",
       "    <tr>\n",
       "      <td>credit_card</td>\n",
       "      <td>1320.0</td>\n",
       "      <td>16862.0</td>\n",
       "      <td>NaN</td>\n",
       "      <td>5752.0</td>\n",
       "      <td>153.0</td>\n",
       "      <td>75.0</td>\n",
       "      <td>415.0</td>\n",
       "      <td>0.055152</td>\n",
       "    </tr>\n",
       "    <tr>\n",
       "      <td>wedding</td>\n",
       "      <td>1.0</td>\n",
       "      <td>NaN</td>\n",
       "      <td>NaN</td>\n",
       "      <td>3.0</td>\n",
       "      <td>NaN</td>\n",
       "      <td>NaN</td>\n",
       "      <td>1.0</td>\n",
       "      <td>NaN</td>\n",
       "    </tr>\n",
       "  </tbody>\n",
       "</table>\n",
       "</div>"
      ],
      "text/plain": [
       "loan_status         Charged Off  Current  Default  Fully Paid  \\\n",
       "purpose                                                         \n",
       "small_business            171.0    854.0      NaN       262.0   \n",
       "moving                     85.0    444.0      NaN       190.0   \n",
       "renewable_energy            7.0     40.0      NaN        16.0   \n",
       "medical                   159.0   1097.0      NaN       462.0   \n",
       "house                     127.0    960.0      NaN       441.0   \n",
       "other                     775.0   6087.0      1.0      2560.0   \n",
       "major_purchase            252.0   2010.0      NaN       838.0   \n",
       "debt_consolidation       4108.0  35123.0      2.0     14128.0   \n",
       "vacation                   53.0    459.0      NaN       224.0   \n",
       "home_improvement          487.0   4832.0      NaN      2077.0   \n",
       "car                        74.0    886.0      NaN       369.0   \n",
       "credit_card              1320.0  16862.0      NaN      5752.0   \n",
       "wedding                     1.0      NaN      NaN         3.0   \n",
       "\n",
       "loan_status         In Grace Period  Late (16-30 days)  Late (31-120 days)  \\\n",
       "purpose                                                                      \n",
       "small_business                 15.0                5.0                39.0   \n",
       "moving                          9.0                NaN                17.0   \n",
       "renewable_energy                NaN                NaN                 NaN   \n",
       "medical                        12.0                5.0                30.0   \n",
       "house                           6.0                9.0                36.0   \n",
       "other                          74.0               39.0               198.0   \n",
       "major_purchase                 29.0               12.0                76.0   \n",
       "debt_consolidation            394.0              238.0              1090.0   \n",
       "vacation                        4.0                1.0                 8.0   \n",
       "home_improvement               67.0               28.0               149.0   \n",
       "car                            10.0                4.0                18.0   \n",
       "credit_card                   153.0               75.0               415.0   \n",
       "wedding                         NaN                NaN                 1.0   \n",
       "\n",
       "loan_status            ratio  \n",
       "purpose                       \n",
       "small_business      0.132867  \n",
       "moving              0.118220  \n",
       "renewable_energy    0.111111  \n",
       "medical             0.092549  \n",
       "house               0.083115  \n",
       "other               0.082254  \n",
       "major_purchase      0.081290  \n",
       "debt_consolidation  0.076988  \n",
       "vacation            0.072011  \n",
       "home_improvement    0.065846  \n",
       "car                 0.055681  \n",
       "credit_card         0.055152  \n",
       "wedding                  NaN  "
      ]
     },
     "execution_count": 12,
     "metadata": {},
     "output_type": "execute_result"
    }
   ],
   "source": [
    "table_cate(data,'purpose')"
   ]
  },
  {
   "cell_type": "code",
   "execution_count": 13,
   "metadata": {},
   "outputs": [
    {
     "data": {
      "image/png": "[encoded data removed]",
      "text/plain": [
       "<Figure size 432x288 with 1 Axes>"
      ]
     },
     "metadata": {
      "needs_background": "light"
     },
     "output_type": "display_data"
    }
   ],
   "source": [
    "plot_cate(data,['purpose'])"
   ]
  },
  {
   "cell_type": "code",
   "execution_count": 14,
   "metadata": {},
   "outputs": [
    {
     "data": {
      "image/png": "[encoded data removed]",
      "text/plain": [
       "<Figure size 432x288 with 1 Axes>"
      ]
     },
     "metadata": {
      "needs_background": "light"
     },
     "output_type": "display_data"
    }
   ],
   "source": [
    "plot_conti(data,'installment')"
   ]
  },
  {
   "cell_type": "code",
   "execution_count": 15,
   "metadata": {},
   "outputs": [
    {
     "data": {
      "text/plain": [
       "<matplotlib.legend.Legend at 0x1b200058348>"
      ]
     },
     "execution_count": 15,
     "metadata": {},
     "output_type": "execute_result"
    },
    {
     "data": {
      "image/png": "[encoded data removed]",
      "text/plain": [
       "<Figure size 432x288 with 1 Axes>"
      ]
     },
     "metadata": {
      "needs_background": "light"
     },
     "output_type": "display_data"
    }
   ],
   "source": [
    "test_data = data.loc[data['annual_inc'] != 0]\n",
    "\n",
    "x1 = test_data[test_data.loan_status=='Fully Paid'].loc[:, 'installment']/test_data[test_data.loan_status=='Fully Paid'].loc[:, 'annual_inc']\n",
    "x2 = test_data[test_data.loan_status=='Charged Off'].loc[:, 'installment']/test_data[test_data.loan_status=='Charged Off'].loc[:, 'annual_inc']\n",
    "plt.hist(x1,color = 'green',range = (0,0.03))\n",
    "plt.hist(x2,color = 'red',range = (0,0.03))\n",
    "plt.title('installment/annual_income ratio')\n",
    "plt.legend(['good', 'bad'])"
   ]
  },
  {
   "cell_type": "code",
   "execution_count": null,
   "metadata": {},
   "outputs": [],
   "source": []
  },
  {
   "cell_type": "code",
   "execution_count": null,
   "metadata": {},
   "outputs": [],
   "source": []
  },
  {
   "cell_type": "markdown",
   "metadata": {},
   "source": [
    "NULL"
   ]
  },
  {
   "cell_type": "code",
   "execution_count": 16,
   "metadata": {},
   "outputs": [],
   "source": [
    "def null_check(df,coltype,top):\n",
    "    target_cols = df.select_dtypes(include=coltype).columns\n",
    "    return(((df[target_cols].isnull().sum()/df.shape[0]).sort_values(ascending=False))[:top],)"
   ]
  },
  {
   "cell_type": "code",
   "execution_count": 17,
   "metadata": {},
   "outputs": [
    {
     "data": {
      "text/plain": [
       "(hardship_loan_status         0.995773\n",
       " payment_plan_start_date      0.995773\n",
       " hardship_end_date            0.995773\n",
       " hardship_start_date          0.995773\n",
       " hardship_status              0.995773\n",
       " hardship_reason              0.995773\n",
       " hardship_type                0.995773\n",
       " settlement_date              0.993158\n",
       " debt_settlement_flag_date    0.993158\n",
       " settlement_status            0.993158\n",
       " verification_status_joint    0.851510\n",
       " sec_app_earliest_cr_line     0.848599\n",
       " next_pymnt_d                 0.323948\n",
       " emp_title                    0.089138\n",
       " emp_length                   0.087423\n",
       " last_pymnt_d                 0.001409\n",
       " revol_util                   0.001400\n",
       " last_credit_pull_d           0.000028\n",
       " issue_d                      0.000019\n",
       " term                         0.000019\n",
       " dtype: float64,)"
      ]
     },
     "execution_count": 17,
     "metadata": {},
     "output_type": "execute_result"
    }
   ],
   "source": [
    "null_check(data,['object'],20)"
   ]
  },
  {
   "cell_type": "code",
   "execution_count": 18,
   "metadata": {},
   "outputs": [],
   "source": [
    "data_clean = data.drop(columns=['member_id', 'desc'])"
   ]
  },
  {
   "cell_type": "code",
   "execution_count": 19,
   "metadata": {},
   "outputs": [],
   "source": [
    "hardship_related_cols = ['hardship_flag','hardship_type','hardship_reason','hardship_status','deferral_term','hardship_amount'\\\n",
    "                         ,'hardship_start_date','hardship_end_date','payment_plan_start_date','hardship_length','hardship_dpd'\\\n",
    "                         ,'hardship_loan_status','orig_projected_additional_accrued_interest','hardship_payoff_balance_amount'\\\n",
    "                         ,'hardship_last_payment_amount','debt_settlement_flag','debt_settlement_flag_date'\\\n",
    "                         ,'settlement_status','settlement_date','settlement_amount','settlement_percentage','settlement_term']\n",
    "data_clean = data_clean.drop(columns=hardship_related_cols)"
   ]
  },
  {
   "cell_type": "code",
   "execution_count": 20,
   "metadata": {},
   "outputs": [],
   "source": [
    "data_clean = data_clean.loc[~data_clean['application_type'].isnull()]\n",
    "data_ind_c = data_clean.loc[data_clean['application_type'] =='Individual']"
   ]
  },
  {
   "cell_type": "code",
   "execution_count": 21,
   "metadata": {},
   "outputs": [],
   "source": [
    "joint_related_cols = ['sec_app_earliest_cr_line','verification_status_joint','sec_app_mths_since_last_major_derog'\\\n",
    "                      ,'sec_app_inq_last_6mths','sec_app_collections_12_mths_ex_med','annual_inc_joint'\\\n",
    "                      ,'dti_joint','revol_bal_joint','sec_app_fico_range_high','sec_app_fico_range_low','sec_app_mort_acc'\\\n",
    "                      ,'sec_app_open_acc','sec_app_revol_util','sec_app_open_act_il'\\\n",
    "                      ,'sec_app_num_rev_accts','sec_app_chargeoff_within_12_mths','mths_since_last_record']\n",
    "data_ind_c = data_ind_c.drop(columns=joint_related_cols)"
   ]
  },
  {
   "cell_type": "code",
   "execution_count": 22,
   "metadata": {},
   "outputs": [
    {
     "name": "stderr",
     "output_type": "stream",
     "text": [
      "D:\\tools\\anaconda\\lib\\site-packages\\pandas\\core\\indexing.py:205: SettingWithCopyWarning: \n",
      "A value is trying to be set on a copy of a slice from a DataFrame\n",
      "\n",
      "See the caveats in the documentation: http://pandas.pydata.org/pandas-docs/stable/user_guide/indexing.html#returning-a-view-versus-a-copy\n",
      "  self._setitem_with_indexer(indexer, value)\n"
     ]
    }
   ],
   "source": [
    "data_ind_c = data_ind_c.drop(columns=['next_pymnt_d'])\n",
    "data_ind_c['emp_title'].loc[data_ind_c['emp_title'].isnull()] = 'no data'\n",
    "data_ind_c['emp_length'].loc[data_ind_c['emp_length'].isnull()] = 'no data'\n",
    "last_event_cols = ['mths_since_last_major_derog','mths_since_recent_bc_dlq','mths_since_recent_revol_delinq','mths_since_last_delinq'\\\n",
    "            ,'mths_since_recent_inq','mths_since_rcnt_il','mths_since_recent_bc']\n",
    "for var in last_event_cols:\n",
    "    data_ind_c[var].loc[data_ind_c[var].isnull()] = -1"
   ]
  },
  {
   "cell_type": "code",
   "execution_count": 23,
   "metadata": {},
   "outputs": [],
   "source": [
    "data_ind_c['il_util'].loc[(data_ind_c['num_il_tl']!=0) & (data_ind_c['il_util'].isnull())] =\\\n",
    "data_ind_c['il_util'].loc[(data_ind_c['num_il_tl']!=0)].mean()\n",
    "data_ind_c['il_util'].loc[data_ind_c['num_il_tl']==0] = 0\n",
    "data_ind_c['bc_util'].loc[(data_ind_c['num_bc_tl']!=0) & (data_ind_c['bc_util'].isnull())] = \\\n",
    "data_ind_c['bc_util'].loc[(data_ind_c['num_bc_tl']!=0)].mean()\n",
    "data_ind_c['bc_util'].loc[data_ind_c['num_bc_tl']==0] = 0\n",
    "data_ind_c['percent_bc_gt_75'].loc[(data_ind_c['num_bc_tl']!=0) & (data_ind_c['percent_bc_gt_75'].isnull())] = \\\n",
    "data_ind_c['percent_bc_gt_75'].loc[(data_ind_c['num_bc_tl']!=0)].mean()\n",
    "data_ind_c['percent_bc_gt_75'].loc[data_ind_c['num_bc_tl']==0] = 0\n",
    "data_ind_c['bc_open_to_buy'].loc[(data_ind_c['bc_open_to_buy'].isnull())] = data_ind_c['bc_open_to_buy'].mean()\n",
    "data_ind_c['mo_sin_old_il_acct'].loc[data_ind_c['num_il_tl']==0] = -1"
   ]
  },
  {
   "cell_type": "code",
   "execution_count": 24,
   "metadata": {},
   "outputs": [],
   "source": [
    "data_ind_c = data_ind_c.drop(columns=['num_tl_120dpd_2m'])\n",
    "data_ind_c.dropna(axis=0, how='any', inplace=True)"
   ]
  },
  {
   "cell_type": "markdown",
   "metadata": {},
   "source": [
    "SPLIT"
   ]
  },
  {
   "cell_type": "code",
   "execution_count": 25,
   "metadata": {},
   "outputs": [],
   "source": [
    "obj_cols = []\n",
    "float_cols = []\n",
    "\n",
    "for col in data_ind_c.columns:\n",
    "    if (data_ind_c[col].dtypes == 'O') and (col != 'loan_status'):\n",
    "        obj_cols.append(col)\n",
    "    if data_ind_c[col].dtypes == 'float64':\n",
    "        float_cols.append(col)\n",
    "        \n",
    "data_ind_float = data_ind_c[float_cols]\n",
    "data_ind_object = data_ind_c[obj_cols]\n",
    "target_df = data_ind_c[['loan_status']]"
   ]
  },
  {
   "cell_type": "code",
   "execution_count": 26,
   "metadata": {},
   "outputs": [
    {
     "name": "stderr",
     "output_type": "stream",
     "text": [
      "D:\\tools\\anaconda\\lib\\site-packages\\ipykernel_launcher.py:4: SettingWithCopyWarning: \n",
      "A value is trying to be set on a copy of a slice from a DataFrame.\n",
      "Try using .loc[row_indexer,col_indexer] = value instead\n",
      "\n",
      "See the caveats in the documentation: http://pandas.pydata.org/pandas-docs/stable/user_guide/indexing.html#returning-a-view-versus-a-copy\n",
      "  after removing the cwd from sys.path.\n",
      "D:\\tools\\anaconda\\lib\\site-packages\\ipykernel_launcher.py:5: SettingWithCopyWarning: \n",
      "A value is trying to be set on a copy of a slice from a DataFrame.\n",
      "Try using .loc[row_indexer,col_indexer] = value instead\n",
      "\n",
      "See the caveats in the documentation: http://pandas.pydata.org/pandas-docs/stable/user_guide/indexing.html#returning-a-view-versus-a-copy\n",
      "  \"\"\"\n"
     ]
    }
   ],
   "source": [
    "int_rate_df = data_ind_object[['int_rate']]\n",
    "revol_util_df = data_ind_object[['revol_util']]\n",
    "def str_to_float(df,col_name):\n",
    "    df[col_name] = df[col_name].map(lambda x:x.strip())\n",
    "    df[col_name] = df[col_name].map(lambda x:float(x[:-1]))\n",
    "    return df\n",
    "int_rate_df = str_to_float(int_rate_df,'int_rate')\n",
    "revol_util_df = str_to_float(revol_util_df,'revol_util')"
   ]
  },
  {
   "cell_type": "code",
   "execution_count": 27,
   "metadata": {},
   "outputs": [],
   "source": [
    "data_ind_object=data_ind_object.drop(['int_rate','revol_util'],axis=1)\n",
    "data_ind_float = pd.merge(data_ind_float, int_rate_df, left_index =True,right_index =True)\n",
    "data_ind_float = pd.merge(data_ind_float, revol_util_df, left_index =True,right_index =True)"
   ]
  },
  {
   "cell_type": "code",
   "execution_count": 28,
   "metadata": {},
   "outputs": [],
   "source": [
    "data_ind_object=data_ind_object.drop(['id','sub_grade','url','zip_code','addr_state','emp_title','earliest_cr_line','application_type'],axis=1)"
   ]
  },
  {
   "cell_type": "markdown",
   "metadata": {},
   "source": [
    "Transformer"
   ]
  },
  {
   "cell_type": "code",
   "execution_count": 29,
   "metadata": {},
   "outputs": [],
   "source": [
    "def standardizeDF(df):\n",
    "    df_index = df.index\n",
    "    final_df = pd.DataFrame(index= df_index,columns=[])\n",
    "    standardscaler_dict = {}\n",
    "    for i in df.columns:\n",
    "        temp_scaler = StandardScaler()\n",
    "        temp_scaler.fit(df[i].values.reshape(-1,1))\n",
    "        s_col = temp_scaler.transform(df[i].values.reshape(-1,1))\n",
    "        s_col = pd.DataFrame(s_col,index= df_index,columns = [i])\n",
    "        final_df=pd.merge(final_df, s_col, left_index =True,right_index =True)\n",
    "        standardscaler_dict[i] = temp_scaler\n",
    "    return final_df,standardscaler_dict"
   ]
  },
  {
   "cell_type": "code",
   "execution_count": 30,
   "metadata": {},
   "outputs": [],
   "source": [
    "data_std_float = standardizeDF(data_ind_float)[0]\n",
    "scaler_dict = standardizeDF(data_ind_float)[1]"
   ]
  },
  {
   "cell_type": "code",
   "execution_count": 31,
   "metadata": {},
   "outputs": [],
   "source": [
    "STD_scaler = StandardScaler()\n",
    "STD_scaler.fit(data_ind_float)\n",
    "nparray_std_float = STD_scaler.transform(data_ind_float)\n",
    "data_std_float = pd.DataFrame(nparray_std_float, index=data_ind_float.index, columns=data_ind_float.columns)"
   ]
  },
  {
   "cell_type": "code",
   "execution_count": 32,
   "metadata": {},
   "outputs": [
    {
     "data": {
      "text/plain": [
       "['./models_save/STD_scaler.m']"
      ]
     },
     "execution_count": 32,
     "metadata": {},
     "output_type": "execute_result"
    }
   ],
   "source": [
    "model_save_path = \"./models_save/\"\n",
    "STD_save_path_name=model_save_path+\"STD_scaler.m\"\n",
    "joblib.dump(STD_scaler, STD_save_path_name)"
   ]
  },
  {
   "cell_type": "code",
   "execution_count": 33,
   "metadata": {},
   "outputs": [],
   "source": [
    "std_scaler = joblib.load(\"./models_save/STD_scaler.m\")\n",
    "    \n",
    "test_input_num = std_scaler.transform(data_ind_float)"
   ]
  },
  {
   "cell_type": "code",
   "execution_count": 34,
   "metadata": {},
   "outputs": [
    {
     "data": {
      "text/plain": [
       "array([[-0.55720139, -0.55720139, -0.55685657, ..., -0.94078308,\n",
       "         0.0673171 , -0.21975627],\n",
       "       [-0.90923191, -0.90923191, -0.90893003, ..., -0.80153151,\n",
       "        -1.26893668, -0.92185584],\n",
       "       [ 0.95150084,  0.95150084,  0.9520297 , ..., -0.72183676,\n",
       "         1.95523529,  2.21552627],\n",
       "       ...,\n",
       "       [-1.12296473, -1.12296473, -1.12268892, ..., -0.22483717,\n",
       "         0.36766772,  0.24162346],\n",
       "       [-0.35604109, -0.35604109, -0.35818654, ...,  0.36214036,\n",
       "        -0.38014403,  0.01695159],\n",
       "       [-0.1548808 , -0.1548808 , -0.15700171, ..., -0.94078308,\n",
       "         0.26755085, -1.56778746]])"
      ]
     },
     "execution_count": 34,
     "metadata": {},
     "output_type": "execute_result"
    }
   ],
   "source": [
    "test_input_num"
   ]
  },
  {
   "cell_type": "markdown",
   "metadata": {},
   "source": [
    "Target_transform"
   ]
  },
  {
   "cell_type": "code",
   "execution_count": 35,
   "metadata": {},
   "outputs": [
    {
     "name": "stderr",
     "output_type": "stream",
     "text": [
      "D:\\tools\\anaconda\\lib\\site-packages\\ipykernel_launcher.py:1: SettingWithCopyWarning: \n",
      "A value is trying to be set on a copy of a slice from a DataFrame\n",
      "\n",
      "See the caveats in the documentation: http://pandas.pydata.org/pandas-docs/stable/user_guide/indexing.html#returning-a-view-versus-a-copy\n",
      "  \"\"\"Entry point for launching an IPython kernel.\n",
      "D:\\tools\\anaconda\\lib\\site-packages\\ipykernel_launcher.py:2: SettingWithCopyWarning: \n",
      "A value is trying to be set on a copy of a slice from a DataFrame\n",
      "\n",
      "See the caveats in the documentation: http://pandas.pydata.org/pandas-docs/stable/user_guide/indexing.html#returning-a-view-versus-a-copy\n",
      "  \n"
     ]
    }
   ],
   "source": [
    "target_df['loan_status'].loc[(target_df['loan_status'] == 'Current')|(target_df['loan_status'] == 'Fully Paid')] = 0\n",
    "target_df['loan_status'].loc[target_df['loan_status'] != 0] = 1"
   ]
  },
  {
   "cell_type": "markdown",
   "metadata": {},
   "source": [
    "Cata_transform"
   ]
  },
  {
   "cell_type": "code",
   "execution_count": 36,
   "metadata": {},
   "outputs": [],
   "source": [
    "trans_cata_df=pd.merge(target_df, data_ind_object, left_index =True,right_index =True)"
   ]
  },
  {
   "cell_type": "code",
   "execution_count": 37,
   "metadata": {},
   "outputs": [],
   "source": [
    "data_ind_object['emp_length'].loc[(data_ind_object['emp_length']=='< 1 year')|\\\n",
    "                                  (data_ind_object['emp_length']=='1 year')|(data_ind_object['emp_length']=='2 years')] = 'short time'\n",
    "data_ind_object['emp_length'].loc[(data_ind_object['emp_length']=='3 years')|\\\n",
    "                                  (data_ind_object['emp_length']=='4 years')|\\\n",
    "                                  (data_ind_object['emp_length']=='5 years')|(data_ind_object['emp_length']=='6 years')] = 'medium time'\n",
    "data_ind_object['emp_length'].loc[(data_ind_object['emp_length']=='7 years')|\\\n",
    "                                  (data_ind_object['emp_length']=='8 years')|\\\n",
    "                                  (data_ind_object['emp_length']=='9 years')|(data_ind_object['emp_length']=='10+ years')] = 'long time'"
   ]
  },
  {
   "cell_type": "code",
   "execution_count": 38,
   "metadata": {},
   "outputs": [],
   "source": [
    "data_ind_object['purpose'].loc[(data_ind_object['purpose']=='credit_card')|\\\n",
    "                                  (data_ind_object['purpose']=='debt_consolidation')|(data_ind_object['purpose']=='small_business')] = 'credit'\n",
    "data_ind_object['purpose'].loc[(data_ind_object['purpose']=='car')|\\\n",
    "                                  (data_ind_object['purpose']=='home_improvement')|(data_ind_object['purpose']=='major_purchase')|\\\n",
    "                              (data_ind_object['purpose']=='moving')|(data_ind_object['purpose']=='renewable_energy')|\\\n",
    "                              (data_ind_object['purpose']=='vacation')] = 'spending'\n",
    "data_ind_object['purpose'].loc[(data_ind_object['purpose']=='house')|\\\n",
    "                                  (data_ind_object['purpose']=='wedding')] = 'big spending'"
   ]
  },
  {
   "cell_type": "code",
   "execution_count": 39,
   "metadata": {},
   "outputs": [],
   "source": [
    "data_ind_object=data_ind_object.drop(['issue_d','last_pymnt_d','last_credit_pull_d','title'],axis=1)"
   ]
  },
  {
   "cell_type": "code",
   "execution_count": 40,
   "metadata": {},
   "outputs": [],
   "source": [
    "trans_cata_df=pd.merge(target_df, data_ind_object, left_index =True,right_index =True)"
   ]
  },
  {
   "cell_type": "markdown",
   "metadata": {},
   "source": [
    "Dummy"
   ]
  },
  {
   "cell_type": "code",
   "execution_count": 41,
   "metadata": {},
   "outputs": [],
   "source": [
    "data_ind_object = pd.get_dummies(data_ind_object,drop_first = True)"
   ]
  },
  {
   "cell_type": "markdown",
   "metadata": {},
   "source": [
    "Outlier"
   ]
  },
  {
   "cell_type": "code",
   "execution_count": 42,
   "metadata": {},
   "outputs": [],
   "source": [
    "obj_cols = []\n",
    "float_cols = []\n",
    "\n",
    "for col in data_ind_c.columns:\n",
    "    if (data_ind_c[col].dtypes == 'O') and (col != 'loan_status'):\n",
    "        obj_cols.append(col)\n",
    "    if data_ind_c[col].dtypes == 'float64':\n",
    "        float_cols.append(col)"
   ]
  },
  {
   "cell_type": "code",
   "execution_count": 43,
   "metadata": {},
   "outputs": [],
   "source": [
    "clf = IsolationForest(n_estimators =100, behaviour = 'new', max_samples=256, random_state = 42, contamination= 'auto')\n",
    "preds = clf.fit_predict(data_std_float)\n",
    "outlier_list = list(np.where(preds == -1))\n",
    "data_std_float['outlier'] = preds\n",
    "out_df = data_std_float.loc[data_std_float['outlier']==-1]\n",
    "nonout_df =data_std_float.loc[data_std_float['outlier']==1]\n",
    "full_df=pd.merge(target_df, data_std_float, left_index =True,right_index =True)\n",
    "full_df = pd.merge(full_df, data_ind_object, left_index =True,right_index =True)"
   ]
  },
  {
   "cell_type": "markdown",
   "metadata": {},
   "source": [
    "Before Modeling"
   ]
  },
  {
   "cell_type": "code",
   "execution_count": 44,
   "metadata": {},
   "outputs": [],
   "source": [
    "y_full = target_df\n",
    "X_full = pd.merge(data_ind_object, data_std_float, left_index =True,right_index =True)"
   ]
  },
  {
   "cell_type": "code",
   "execution_count": 45,
   "metadata": {},
   "outputs": [],
   "source": [
    "y_numout = full_df[['loan_status']].loc[full_df['outlier']==1]\n",
    "X_numout = full_df.loc[full_df['outlier']==1].drop(['loan_status'],axis=1)\n",
    "#89303 records"
   ]
  },
  {
   "cell_type": "code",
   "execution_count": 46,
   "metadata": {},
   "outputs": [],
   "source": [
    "X_full_train, X_full_test, y_full_train, y_full_test = train_test_split(X_full, y_full, test_size=0.2, random_state=42)\n",
    "X_numout_train, X_numout_test, y_numout_train, y_numout_test = train_test_split(X_numout, y_numout, test_size=0.2, random_state=42)"
   ]
  },
  {
   "cell_type": "code",
   "execution_count": 47,
   "metadata": {},
   "outputs": [],
   "source": [
    "def statistic_model(y_test,y_pred,model,X_test):\n",
    "    cm = confusion_matrix(y_test, y_pred)\n",
    "\n",
    "    print(cm)\n",
    "\n",
    "    print(\"MCC: %f \" %matthews_corrcoef(y_test, y_pred))\n",
    "    print(\"ACC: %f \" %accuracy_score(y_test, y_pred))\n",
    "    print(\"precision: %f \" %precision_score(y_test, y_pred))\n",
    "    print(\"recall: %f \" %recall_score(y_test, y_pred))\n",
    "    y_prob =model.predict_proba(X_test)[:,1]\n",
    "    print( \"AUC:  %f \"  %roc_auc_score(y_test,y_prob))"
   ]
  },
  {
   "cell_type": "code",
   "execution_count": null,
   "metadata": {},
   "outputs": [],
   "source": []
  },
  {
   "cell_type": "markdown",
   "metadata": {},
   "source": [
    "Naive model"
   ]
  },
  {
   "cell_type": "code",
   "execution_count": 48,
   "metadata": {},
   "outputs": [],
   "source": [
    "navie_data=np.zeros(len(y_full_test))\n",
    "naive_pred=pd.DataFrame(navie_data,columns=['loan_status'])"
   ]
  },
  {
   "cell_type": "code",
   "execution_count": 49,
   "metadata": {},
   "outputs": [
    {
     "name": "stdout",
     "output_type": "stream",
     "text": [
      "[[16463     0]\n",
      " [ 1796     0]]\n",
      "MCC: 0.000000 \n",
      "ACC: 0.901638 \n",
      "precision: 0.000000 \n",
      "recall: 0.000000 \n",
      "AUC:  0.500000 \n"
     ]
    },
    {
     "name": "stderr",
     "output_type": "stream",
     "text": [
      "D:\\tools\\anaconda\\lib\\site-packages\\sklearn\\metrics\\classification.py:872: RuntimeWarning: invalid value encountered in double_scalars\n",
      "  mcc = cov_ytyp / np.sqrt(cov_ytyt * cov_ypyp)\n",
      "D:\\tools\\anaconda\\lib\\site-packages\\sklearn\\metrics\\classification.py:1437: UndefinedMetricWarning: Precision is ill-defined and being set to 0.0 due to no predicted samples.\n",
      "  'precision', 'predicted', average, warn_for)\n"
     ]
    }
   ],
   "source": [
    "cm_navie = confusion_matrix(y_full_test, naive_pred)\n",
    "\n",
    "print(cm_navie)\n",
    "\n",
    "print(\"MCC: %f \" %matthews_corrcoef(y_full_test, naive_pred))\n",
    "print(\"ACC: %f \" %accuracy_score(y_full_test, naive_pred))\n",
    "print(\"precision: %f \" %precision_score(y_full_test, naive_pred))\n",
    "print(\"recall: %f \" %recall_score(y_full_test, naive_pred))\n",
    "print( \"AUC:  %f \"  %roc_auc_score(y_full_test,naive_pred))"
   ]
  },
  {
   "cell_type": "markdown",
   "metadata": {},
   "source": [
    "Logistic Regression"
   ]
  },
  {
   "cell_type": "code",
   "execution_count": 50,
   "metadata": {},
   "outputs": [
    {
     "name": "stderr",
     "output_type": "stream",
     "text": [
      "D:\\tools\\anaconda\\lib\\site-packages\\sklearn\\linear_model\\logistic.py:432: FutureWarning: Default solver will be changed to 'lbfgs' in 0.22. Specify a solver to silence this warning.\n",
      "  FutureWarning)\n",
      "D:\\tools\\anaconda\\lib\\site-packages\\sklearn\\utils\\validation.py:724: DataConversionWarning: A column-vector y was passed when a 1d array was expected. Please change the shape of y to (n_samples, ), for example using ravel().\n",
      "  y = column_or_1d(y, warn=True)\n"
     ]
    }
   ],
   "source": [
    "LR_full_b=LogisticRegression(class_weight='balanced')\n",
    "lr_f_b_m = LR_full_b.fit(X_full_train, y_full_train)\n",
    "y_LR_pred = lr_f_b_m.predict(X_full_test)\n",
    "#full dataset balanced weight"
   ]
  },
  {
   "cell_type": "code",
   "execution_count": 51,
   "metadata": {},
   "outputs": [
    {
     "name": "stdout",
     "output_type": "stream",
     "text": [
      "[[15957   506]\n",
      " [  164  1632]]\n",
      "MCC: 0.813163 \n",
      "ACC: 0.963306 \n",
      "precision: 0.763330 \n",
      "recall: 0.908686 \n",
      "AUC:  0.980857 \n"
     ]
    },
    {
     "data": {
      "text/plain": [
       "'\\nBest Penalty: l2\\nBest C: 1.0\\n-1265.0696976184845\\n'"
      ]
     },
     "execution_count": 51,
     "metadata": {},
     "output_type": "execute_result"
    }
   ],
   "source": [
    "statistic_model(y_full_test,y_LR_pred,lr_f_b_m,X_full_test)\n",
    "'''\n",
    "Best Penalty: l2\n",
    "Best C: 1.0\n",
    "-1265.0696976184845\n",
    "'''"
   ]
  },
  {
   "cell_type": "markdown",
   "metadata": {},
   "source": [
    "GB trees"
   ]
  },
  {
   "cell_type": "code",
   "execution_count": 52,
   "metadata": {},
   "outputs": [
    {
     "name": "stderr",
     "output_type": "stream",
     "text": [
      "D:\\tools\\anaconda\\lib\\site-packages\\sklearn\\utils\\validation.py:724: DataConversionWarning: A column-vector y was passed when a 1d array was expected. Please change the shape of y to (n_samples, ), for example using ravel().\n",
      "  y = column_or_1d(y, warn=True)\n"
     ]
    }
   ],
   "source": [
    "OS = RandomOverSampler(ratio='auto', random_state=0)\n",
    "osx_full, osy_full = OS.fit_sample(X_full_train, y_full_train)"
   ]
  },
  {
   "cell_type": "code",
   "execution_count": 53,
   "metadata": {},
   "outputs": [],
   "source": [
    "GB =  GradientBoostingClassifier(criterion='friedman_mse', init=None,\n",
    "                           learning_rate=0.5, loss='deviance', max_depth=3,\n",
    "                           max_features='auto', max_leaf_nodes=22,\n",
    "                           min_impurity_decrease=0.0, min_impurity_split=None,\n",
    "                           min_samples_leaf=1, min_samples_split=5,\n",
    "                           min_weight_fraction_leaf=0.0, n_estimators=120,\n",
    "                           n_iter_no_change=None, presort='auto',\n",
    "                           random_state=42, subsample=0.99, tol=0.0001,\n",
    "                           validation_fraction=0.1, verbose=0,\n",
    "                           warm_start=False)\n",
    "GB.fit(osx_full, osy_full)\n",
    "y_GB_pred = GB.predict(X_full_test)\n",
    "#OverSampling"
   ]
  },
  {
   "cell_type": "code",
   "execution_count": 54,
   "metadata": {},
   "outputs": [
    {
     "name": "stdout",
     "output_type": "stream",
     "text": [
      "[[16009   454]\n",
      " [  175  1621]]\n",
      "MCC: 0.821024 \n",
      "ACC: 0.965551 \n",
      "precision: 0.781205 \n",
      "recall: 0.902561 \n",
      "AUC:  0.981227 \n"
     ]
    }
   ],
   "source": [
    "statistic_model(y_full_test,y_GB_pred,GB,X_full_test)"
   ]
  },
  {
   "cell_type": "markdown",
   "metadata": {},
   "source": [
    "NN"
   ]
  },
  {
   "cell_type": "code",
   "execution_count": 55,
   "metadata": {},
   "outputs": [
    {
     "name": "stderr",
     "output_type": "stream",
     "text": [
      "D:\\tools\\anaconda\\lib\\site-packages\\sklearn\\neural_network\\multilayer_perceptron.py:921: DataConversionWarning: A column-vector y was passed when a 1d array was expected. Please change the shape of y to (n_samples, ), for example using ravel().\n",
      "  y = column_or_1d(y, warn=True)\n",
      "D:\\tools\\anaconda\\lib\\site-packages\\sklearn\\neural_network\\multilayer_perceptron.py:566: ConvergenceWarning: Stochastic Optimizer: Maximum iterations (200) reached and the optimization hasn't converged yet.\n",
      "  % self.max_iter, ConvergenceWarning)\n"
     ]
    }
   ],
   "source": [
    "NN = MLPClassifier(solver='sgd',momentum=0.95, learning_rate_init=0.01,hidden_layer_sizes=64,\\\n",
    "                        batch_size=512,alpha=0.0001,random_state=42)\n",
    "NN.fit(X_full_train, y_full_train)\n",
    "y_NN_pred = NN.predict(X_full_test)"
   ]
  },
  {
   "cell_type": "code",
   "execution_count": 56,
   "metadata": {},
   "outputs": [
    {
     "name": "stdout",
     "output_type": "stream",
     "text": [
      "[[16301   162]\n",
      " [  279  1517]]\n",
      "MCC: 0.860360 \n",
      "ACC: 0.975848 \n",
      "precision: 0.903514 \n",
      "recall: 0.844655 \n",
      "AUC:  0.976924 \n"
     ]
    }
   ],
   "source": [
    "statistic_model(y_full_test,y_NN_pred,NN,X_full_test)"
   ]
  },
  {
   "cell_type": "markdown",
   "metadata": {},
   "source": [
    "RF"
   ]
  },
  {
   "cell_type": "code",
   "execution_count": 57,
   "metadata": {},
   "outputs": [
    {
     "name": "stderr",
     "output_type": "stream",
     "text": [
      "D:\\tools\\anaconda\\lib\\site-packages\\ipykernel_launcher.py:3: DataConversionWarning: A column-vector y was passed when a 1d array was expected. Please change the shape of y to (n_samples,), for example using ravel().\n",
      "  This is separate from the ipykernel package so we can avoid doing imports until\n"
     ]
    }
   ],
   "source": [
    "RF = RandomForestClassifier(oob_score = False,random_state=42,n_estimators=460,min_samples_split=2,min_samples_leaf=1,\\\n",
    "                                            max_features='auto',max_depth=90)\n",
    "RF.fit(X_full_train, y_full_train)\n",
    "y_RF_pred = RF.predict(X_full_test)"
   ]
  },
  {
   "cell_type": "code",
   "execution_count": 58,
   "metadata": {},
   "outputs": [
    {
     "name": "stdout",
     "output_type": "stream",
     "text": [
      "[[16430    33]\n",
      " [  433  1363]]\n",
      "MCC: 0.848278 \n",
      "ACC: 0.974478 \n",
      "precision: 0.976361 \n",
      "recall: 0.758909 \n",
      "AUC:  0.978354 \n"
     ]
    }
   ],
   "source": [
    "statistic_model(y_full_test,y_RF_pred,RF,X_full_test)"
   ]
  },
  {
   "cell_type": "markdown",
   "metadata": {},
   "source": [
    "Ensemble Model"
   ]
  },
  {
   "cell_type": "code",
   "execution_count": 59,
   "metadata": {},
   "outputs": [],
   "source": [
    "def statistic_E_model(y_test,y_prob_pred):\n",
    "    y_pred = y_prob_pred.copy()\n",
    "    for i in range(len(y_pred)):\n",
    "        if y_pred[i]>0.5:\n",
    "            y_pred[i] = 1\n",
    "        else:\n",
    "            y_pred[i] = 0 \n",
    "    \n",
    "    cm = confusion_matrix(y_test, y_pred)\n",
    "\n",
    "    print(cm)\n",
    "\n",
    "    print(\"MCC: %f \" %matthews_corrcoef(y_test, y_pred))\n",
    "    print(\"ACC: %f \" %accuracy_score(y_test, y_pred))\n",
    "    print(\"precision: %f \" %precision_score(y_test, y_pred))\n",
    "    print(\"recall: %f \" %recall_score(y_test, y_pred))\n",
    "    print( \"AUC:  %f \"  %roc_auc_score(y_test,y_prob_pred))"
   ]
  },
  {
   "cell_type": "code",
   "execution_count": 60,
   "metadata": {},
   "outputs": [],
   "source": [
    "y_LR_prob = lr_f_b_m.predict_proba(X_full_test)\n",
    "y_GB_prob = GB.predict_proba(X_full_test)\n",
    "y_NN_prob = NN.predict_proba(X_full_test)\n",
    "y_RF_prob = RF.predict_proba(X_full_test)"
   ]
  },
  {
   "cell_type": "code",
   "execution_count": 61,
   "metadata": {},
   "outputs": [],
   "source": [
    "EMP = (y_LR_prob[:,1]*0.5+y_GB_prob[:,1]*0.1+y_NN_prob[:,1]*0.4)"
   ]
  },
  {
   "cell_type": "code",
   "execution_count": 62,
   "metadata": {},
   "outputs": [
    {
     "name": "stdout",
     "output_type": "stream",
     "text": [
      "[[16234   229]\n",
      " [  218  1578]]\n",
      "MCC: 0.862361 \n",
      "ACC: 0.975519 \n",
      "precision: 0.873271 \n",
      "recall: 0.878619 \n",
      "AUC:  0.982954 \n"
     ]
    }
   ],
   "source": [
    "statistic_E_model(y_full_test,EMP)"
   ]
  },
  {
   "cell_type": "code",
   "execution_count": 63,
   "metadata": {},
   "outputs": [],
   "source": [
    "EMP2 = (y_LR_prob[:,1]*0.5+y_RF_prob[:,1]*0.1+y_NN_prob[:,1]*0.4)"
   ]
  },
  {
   "cell_type": "code",
   "execution_count": 64,
   "metadata": {},
   "outputs": [
    {
     "name": "stdout",
     "output_type": "stream",
     "text": [
      "[[16265   198]\n",
      " [  231  1565]]\n",
      "MCC: 0.866491 \n",
      "ACC: 0.976505 \n",
      "precision: 0.887691 \n",
      "recall: 0.871381 \n",
      "AUC:  0.983186 \n"
     ]
    }
   ],
   "source": [
    "statistic_E_model(y_full_test,EMP2)"
   ]
  },
  {
   "cell_type": "code",
   "execution_count": 65,
   "metadata": {},
   "outputs": [],
   "source": [
    "EMP3 = (y_LR_prob[:,1]*0.4+y_RF_prob[:,1]*0.1+y_NN_prob[:,1]*0.4+y_GB_prob[:,1]*0.1)"
   ]
  },
  {
   "cell_type": "code",
   "execution_count": 66,
   "metadata": {},
   "outputs": [
    {
     "name": "stdout",
     "output_type": "stream",
     "text": [
      "[[16282   181]\n",
      " [  233  1563]]\n",
      "MCC: 0.870615 \n",
      "ACC: 0.977326 \n",
      "precision: 0.896216 \n",
      "recall: 0.870267 \n",
      "AUC:  0.983761 \n"
     ]
    }
   ],
   "source": [
    "statistic_E_model(y_full_test,EMP3)"
   ]
  },
  {
   "cell_type": "code",
   "execution_count": 67,
   "metadata": {},
   "outputs": [],
   "source": [
    "from sklearn.externals import joblib"
   ]
  },
  {
   "cell_type": "code",
   "execution_count": 68,
   "metadata": {},
   "outputs": [
    {
     "data": {
      "text/plain": [
       "['./models_save/RF_train_model.m']"
      ]
     },
     "execution_count": 68,
     "metadata": {},
     "output_type": "execute_result"
    }
   ],
   "source": [
    "model_save_path = \"./models_save/\"\n",
    "LR_save_path_name=model_save_path+\"LR_\"+\"train_model.m\"\n",
    "joblib.dump(lr_f_b_m, LR_save_path_name)\n",
    "GB_save_path_name=model_save_path+\"GB_\"+\"train_model.m\"\n",
    "joblib.dump(GB, GB_save_path_name)\n",
    "NN_save_path_name=model_save_path+\"NN_\"+\"train_model.m\"\n",
    "joblib.dump(NN, NN_save_path_name)\n",
    "RF_save_path_name=model_save_path+\"RF_\"+\"train_model.m\"\n",
    "joblib.dump(RF, RF_save_path_name)"
   ]
  },
  {
   "cell_type": "code",
   "execution_count": null,
   "metadata": {},
   "outputs": [],
   "source": []
  },
  {
   "cell_type": "code",
   "execution_count": null,
   "metadata": {},
   "outputs": [],
   "source": []
  }
 ],
 "metadata": {
  "kernelspec": {
   "display_name": "Python 3",
   "language": "python",
   "name": "python3"
  },
  "language_info": {
   "codemirror_mode": {
    "name": "ipython",
    "version": 3
   },
   "file_extension": ".py",
   "mimetype": "text/x-python",
   "name": "python",
   "nbconvert_exporter": "python",
   "pygments_lexer": "ipython3",
   "version": "3.7.4"
  }
 },
 "nbformat": 4,
 "nbformat_minor": 2
}
